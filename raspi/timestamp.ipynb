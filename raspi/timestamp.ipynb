{
 "cells": [
  {
   "cell_type": "code",
   "execution_count": 1,
   "metadata": {},
   "outputs": [
    {
     "name": "stdout",
     "output_type": "stream",
     "text": [
      "min time_ns() delta: 885 ns\n",
      "std:  111604.90055100799\n",
      "min:  885\n",
      "mean:  2696.141832\n",
      "max:  30858842\n",
      "min time() delta: 954 ns\n",
      "std:  0.00011090958151687784\n",
      "min:  9.5367431640625e-07\n",
      "mean:  3.176342248916626e-06\n",
      "max:  0.040599822998046875\n",
      "min process_time_ns() delta: 5416 ns\n",
      "std:  4574.374259992819\n",
      "min:  5416\n",
      "mean:  11003.428131\n",
      "max:  1605364\n",
      "min perf_counter_ns() delta: 833 ns\n",
      "std:  23251.447045623063\n",
      "min:  833\n",
      "mean:  972.211461\n",
      "max:  15785878\n",
      "min monotonic_ns() delta: 833 ns\n",
      "std:  42415.898344052985\n",
      "min:  833\n",
      "mean:  1635.473553\n",
      "max:  20122580\n"
     ]
    }
   ],
   "source": [
    "import math\n",
    "import time\n",
    "import numpy as np\n",
    "\n",
    "LOOPS = 10 ** 6\n",
    "\n",
    "delta_list1 = [abs(time.time_ns() - time.time_ns())\n",
    "          for _ in range(LOOPS)]\n",
    "min_dt = min(filter(bool, delta_list1))\n",
    "print(\"min time_ns() delta: %s ns\" % min_dt)\n",
    "print(\"std: \", np.std(delta_list1))\n",
    "print(\"min: \", np.min(delta_list1))\n",
    "print(\"mean: \", np.mean(delta_list1))\n",
    "print(\"max: \", np.max(delta_list1))\n",
    "\n",
    "delta_list2 = [abs(time.time() - time.time())\n",
    "          for _ in range(LOOPS)]\n",
    "min_dt = min(filter(bool, delta_list2))\n",
    "print(\"min time() delta: %s ns\" % math.ceil(min_dt * 1e9))\n",
    "print(\"std: \", np.std(delta_list2))\n",
    "print(\"min: \", np.min(delta_list2))\n",
    "print(\"mean: \", np.mean(delta_list2))\n",
    "print(\"max: \", np.max(delta_list2))\n",
    "\n",
    "delta_list3 = [abs(time.process_time_ns() - time.process_time_ns())\n",
    "          for _ in range(LOOPS)]\n",
    "min_dt = min(filter(bool, delta_list3))\n",
    "print(\"min process_time_ns() delta: %s ns\" % min_dt)\n",
    "print(\"std: \", np.std(delta_list3))\n",
    "print(\"min: \", np.min(delta_list3))\n",
    "print(\"mean: \", np.mean(delta_list3))\n",
    "print(\"max: \", np.max(delta_list3))\n",
    "\n",
    "delta_list4 = [abs(time.perf_counter_ns() - time.perf_counter_ns())\n",
    "          for _ in range(LOOPS)]\n",
    "min_dt = min(filter(bool, delta_list4))\n",
    "print(\"min perf_counter_ns() delta: %s ns\" % min_dt)\n",
    "print(\"std: \", np.std(delta_list4))\n",
    "print(\"min: \", np.min(delta_list4))\n",
    "print(\"mean: \", np.mean(delta_list4))\n",
    "print(\"max: \", np.max(delta_list4))\n",
    "\n",
    "delta_list5 = [abs(time.monotonic_ns() - time.monotonic_ns())\n",
    "          for _ in range(LOOPS)]\n",
    "min_dt = min(filter(bool, delta_list5))\n",
    "print(\"min monotonic_ns() delta: %s ns\" % min_dt)\n",
    "print(\"std: \", np.std(delta_list5))\n",
    "print(\"min: \", np.min(delta_list5))\n",
    "print(\"mean: \", np.mean(delta_list5))\n",
    "print(\"max: \", np.max(delta_list5))\n"
   ]
  },
  {
   "cell_type": "code",
   "execution_count": null,
   "metadata": {},
   "outputs": [],
   "source": []
  }
 ],
 "metadata": {
  "kernelspec": {
   "display_name": "Python 3",
   "language": "python",
   "name": "python3"
  },
  "language_info": {
   "codemirror_mode": {
    "name": "ipython",
    "version": 3
   },
   "file_extension": ".py",
   "mimetype": "text/x-python",
   "name": "python",
   "nbconvert_exporter": "python",
   "pygments_lexer": "ipython3",
   "version": "3.9.2"
  },
  "orig_nbformat": 4
 },
 "nbformat": 4,
 "nbformat_minor": 2
}
