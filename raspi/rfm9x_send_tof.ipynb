{
 "cells": [
  {
   "cell_type": "code",
   "execution_count": 9,
   "metadata": {},
   "outputs": [
    {
     "name": "stdout",
     "output_type": "stream",
     "text": [
      "5 7 125000 (7800, 10400, 15600, 20800, 31250, 41700, 62500, 125000, 250000)\n",
      "0 7 250000\n",
      "5 False 8 0.5\n"
     ]
    }
   ],
   "source": [
    "import board\n",
    "import busio\n",
    "import digitalio\n",
    "spi = busio.SPI(board.SCK, MOSI=board.MOSI, MISO=board.MISO)\n",
    "cs = digitalio.DigitalInOut(board.CE1)\n",
    "reset = digitalio.DigitalInOut(board.D25)\n",
    "\n",
    "import adafruit_rfm9x\n",
    "import time\n",
    "\n",
    "rfm9x = adafruit_rfm9x.RFM9x(spi, cs, reset, 915.0)\n",
    "print(rfm9x.ack_retries, rfm9x.spreading_factor, rfm9x.signal_bandwidth, rfm9x.bw_bins)\n",
    "rfm9x.ack_retries = 0\n",
    "rfm9x.spreading_factor =7 \n",
    "rfm9x.signal_bandwidth = 250000\n",
    "print(rfm9x.ack_retries, rfm9x.spreading_factor, rfm9x.signal_bandwidth)\n",
    "# data_to_send = bytes(\" \",\"utf-8\")\n",
    "data_to_send = bytes(1)\n",
    "rfm9x.enable_crc = False\n",
    "print(rfm9x.coding_rate, rfm9x.enable_crc, rfm9x.preamble_length, rfm9x.ack_wait)\n"
   ]
  },
  {
   "cell_type": "code",
   "execution_count": 10,
   "metadata": {},
   "outputs": [
    {
     "name": "stdout",
     "output_type": "stream",
     "text": [
      "rtt time:  59656980\n",
      "rtt time:  55435674\n",
      "rtt time:  53466980\n",
      "rtt time:  53112554\n",
      "rtt time:  52749843\n",
      "rtt time:  51609065\n",
      "rtt time:  51912135\n",
      "rtt time:  52927343\n",
      "rtt time:  52166303\n",
      "rtt time:  52780885\n",
      "rtt time:  49638020\n",
      "rtt time:  51700053\n",
      "rtt time:  52692971\n",
      "rtt time:  52182604\n",
      "rtt time:  52719687\n",
      "rtt time:  53509272\n",
      "rtt time:  51250105\n",
      "rtt time:  54065156\n",
      "rtt time:  53877917\n",
      "rtt time:  52808334\n",
      "rtt time:  53844271\n",
      "rtt time:  52846250\n",
      "rtt time:  53656042\n",
      "rtt time:  52876042\n",
      "rtt time:  5014350645\n",
      "rtt time:  4894843720\n",
      "rtt time:  52777812\n",
      "rtt time:  53706823\n",
      "rtt time:  54086458\n",
      "rtt time:  52087865\n",
      "rtt time:  52371616\n",
      "rtt time:  53042084\n",
      "rtt time:  52977396\n",
      "rtt time:  52979947\n",
      "rtt time:  53139324\n",
      "rtt time:  52986876\n",
      "rtt time:  53739688\n",
      "rtt time:  54546615\n",
      "rtt time:  54826198\n",
      "rtt time:  51566405\n",
      "rtt time:  57491667\n",
      "rtt time:  51600886\n",
      "rtt time:  53915365\n",
      "rtt time:  53000259\n",
      "rtt time:  56414010\n",
      "rtt time:  4922844389\n",
      "rtt time:  5028910538\n",
      "rtt time:  4866415424\n",
      "rtt time:  55137031\n",
      "rtt time:  46688229\n",
      "rtt time:  4881651271\n",
      "rtt time:  4989519180\n",
      "rtt time:  5013432200\n",
      "rtt time:  5013837933\n",
      "rtt time:  5030874599\n",
      "rtt time:  52869479\n",
      "rtt time:  52537344\n",
      "rtt time:  53458907\n",
      "rtt time:  52546667\n",
      "rtt time:  52985574\n",
      "rtt time:  51184740\n",
      "rtt time:  52868020\n",
      "rtt time:  53857760\n",
      "rtt time:  55271354\n",
      "rtt time:  52692656\n",
      "rtt time:  52914948\n",
      "rtt time:  52757656\n",
      "rtt time:  52839688\n",
      "rtt time:  5012339278\n",
      "rtt time:  5027417825\n",
      "rtt time:  4942530223\n",
      "rtt time:  52849636\n",
      "rtt time:  52814531\n",
      "rtt time:  50974427\n",
      "rtt time:  52846041\n",
      "rtt time:  52785833\n",
      "rtt time:  52846614\n",
      "rtt time:  52713594\n",
      "rtt time:  52696198\n",
      "rtt time:  52671667\n",
      "rtt time:  52911041\n",
      "rtt time:  52783229\n",
      "rtt time:  51179792\n",
      "rtt time:  51010311\n",
      "rtt time:  50690729\n",
      "rtt time:  51997706\n",
      "rtt time:  52867187\n",
      "rtt time:  52816407\n",
      "rtt time:  53284114\n",
      "rtt time:  52269531\n",
      "rtt time:  52601928\n",
      "rtt time:  52795782\n",
      "rtt time:  52663385\n",
      "rtt time:  53617918\n",
      "rtt time:  52802501\n",
      "rtt time:  50628645\n",
      "rtt time:  50819011\n",
      "rtt time:  49703384\n",
      "rtt time:  50387549\n",
      "rtt time:  5006264286\n"
     ]
    }
   ],
   "source": [
    "rtt_list_process_time_ns = []\n",
    "for _ in range(10**2):\n",
    "    start_time = time.process_time_ns()\n",
    "    rfm9x.send(data_to_send)\n",
    "    rfm9x.receive(timeout=5.0)\n",
    "    finish_time = time.process_time_ns()\n",
    "    rtt_list_process_time_ns.append(finish_time - start_time)\n",
    "    print(\"rtt time: \", finish_time - start_time)\n",
    "    time.sleep(0.5)\n"
   ]
  },
  {
   "cell_type": "code",
   "execution_count": 15,
   "metadata": {},
   "outputs": [
    {
     "name": "stdout",
     "output_type": "stream",
     "text": [
      "rtt time:  64956212\n",
      "rtt time:  53215944\n",
      "rtt time:  52838862\n",
      "rtt time:  54627918\n",
      "rtt time:  54017399\n",
      "rtt time:  53251309\n",
      "rtt time:  52595894\n",
      "rtt time:  52448656\n",
      "rtt time:  49750019\n",
      "rtt time:  52564020\n",
      "rtt time:  52793810\n",
      "rtt time:  52765373\n",
      "rtt time:  53513755\n",
      "rtt time:  53818650\n",
      "rtt time:  51887616\n",
      "rtt time:  52940060\n",
      "rtt time:  52264437\n",
      "rtt time:  52863446\n",
      "rtt time:  52817716\n",
      "rtt time:  49993248\n",
      "rtt time:  52277510\n",
      "rtt time:  52720894\n",
      "rtt time:  52412301\n",
      "rtt time:  52593707\n",
      "rtt time:  52857248\n",
      "rtt time:  54112451\n",
      "rtt time:  52425583\n",
      "rtt time:  52220479\n",
      "rtt time:  52973184\n",
      "rtt time:  52401937\n",
      "rtt time:  49703770\n",
      "rtt time:  52504905\n",
      "rtt time:  52478759\n",
      "rtt time:  52475947\n",
      "rtt time:  52341468\n",
      "rtt time:  52541676\n",
      "rtt time:  52771623\n",
      "rtt time:  52613602\n",
      "rtt time:  52893080\n",
      "rtt time:  51152098\n",
      "rtt time:  52774956\n",
      "rtt time:  52787977\n",
      "rtt time:  52318812\n",
      "rtt time:  53190111\n",
      "rtt time:  52556519\n",
      "rtt time:  53176517\n",
      "rtt time:  53448860\n",
      "rtt time:  52871727\n",
      "rtt time:  52596363\n",
      "rtt time:  53106101\n",
      "rtt time:  53716515\n",
      "rtt time:  52439124\n",
      "rtt time:  53711723\n",
      "rtt time:  52602301\n",
      "rtt time:  53700265\n",
      "rtt time:  52980008\n",
      "rtt time:  52533707\n",
      "rtt time:  52740529\n",
      "rtt time:  52559540\n",
      "rtt time:  53127559\n",
      "rtt time:  53851984\n",
      "rtt time:  53381048\n",
      "rtt time:  52953914\n",
      "rtt time:  53031778\n",
      "rtt time:  52672405\n",
      "rtt time:  52668811\n",
      "rtt time:  52839643\n",
      "rtt time:  52902508\n",
      "rtt time:  52384333\n",
      "rtt time:  52423395\n",
      "rtt time:  53102298\n",
      "rtt time:  53380319\n",
      "rtt time:  53649067\n"
     ]
    }
   ],
   "source": [
    "rtt_list_perf_counter_ns = []\n",
    "for _ in range(10**2):\n",
    "    start_time = time.perf_counter_ns()\n",
    "    rfm9x.send(data_to_send)\n",
    "    rfm9x.receive(timeout=5.0)\n",
    "    finish_time = time.perf_counter_ns()\n",
    "    rtt_list_perf_counter_ns.append(finish_time - start_time)\n",
    "    print(\"rtt time: \", finish_time - start_time)\n",
    "    time.sleep(0.5)"
   ]
  },
  {
   "cell_type": "code",
   "execution_count": 11,
   "metadata": {},
   "outputs": [],
   "source": [
    "import matplotlib.pyplot as plt"
   ]
  },
  {
   "cell_type": "code",
   "execution_count": 14,
   "metadata": {},
   "outputs": [
    {
     "data": {
      "text/plain": [
       "(array([ 0.,  0.,  0.,  0.,  1.,  0.,  3., 14., 49., 13.,  4.,  1.,  0.,\n",
       "         1.,  0.,  0.,  0.,  0.,  0.,  0.]),\n",
       " array([40000000., 41500000., 43000000., 44500000., 46000000., 47500000.,\n",
       "        49000000., 50500000., 52000000., 53500000., 55000000., 56500000.,\n",
       "        58000000., 59500000., 61000000., 62500000., 64000000., 65500000.,\n",
       "        67000000., 68500000., 70000000.]),\n",
       " <BarContainer object of 20 artists>)"
      ]
     },
     "execution_count": 14,
     "metadata": {},
     "output_type": "execute_result"
    },
    {
     "data": {
      "image/png": "[encoded data removed]",
      "text/plain": [
       "<Figure size 640x480 with 1 Axes>"
      ]
     },
     "metadata": {},
     "output_type": "display_data"
    }
   ],
   "source": [
    "plt.hist(rtt_list_process_time_ns, range=[40000000,70000000], bins=20)"
   ]
  },
  {
   "cell_type": "code",
   "execution_count": null,
   "metadata": {},
   "outputs": [],
   "source": [
    "plt.hist(rtt_list_perf_counter_ns, range=[0,10000000], bins=20)"
   ]
  }
 ],
 "metadata": {
  "kernelspec": {
   "display_name": "Python 3",
   "language": "python",
   "name": "python3"
  },
  "language_info": {
   "codemirror_mode": {
    "name": "ipython",
    "version": 3
   },
   "file_extension": ".py",
   "mimetype": "text/x-python",
   "name": "python",
   "nbconvert_exporter": "python",
   "pygments_lexer": "ipython3",
   "version": "3.9.2"
  },
  "orig_nbformat": 4
 },
 "nbformat": 4,
 "nbformat_minor": 2
}
