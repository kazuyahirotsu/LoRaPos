{
 "cells": [
  {
   "cell_type": "code",
   "execution_count": 16,
   "metadata": {},
   "outputs": [
    {
     "name": "stdout",
     "output_type": "stream",
     "text": [
      "hello\n",
      "pctxsw(voluntary=4294975644, involuntary=0)\n",
      "pctxsw(voluntary=4294975653, involuntary=0)\n",
      "Number of voluntary context switches during the execution: 9\n"
     ]
    }
   ],
   "source": [
    "import time\n",
    "import psutil\n",
    "\n",
    "# Get the current process\n",
    "process = psutil.Process()\n",
    "\n",
    "# Get the number of context switches before your code\n",
    "switches_before = process.num_ctx_switches()\n",
    "\n",
    "# Put your code here\n",
    "print(\"hello\")\n",
    "\n",
    "# Get the number of context switches after your code\n",
    "switches_after = process.num_ctx_switches()\n",
    "print(switches_before)\n",
    "\n",
    "print(switches_after)\n",
    "\n",
    "# Calculate the difference\n",
    "difference = switches_after.voluntary - switches_before.voluntary\n",
    "\n",
    "print(f'Number of voluntary context switches during the execution: {difference}')\n"
   ]
  },
  {
   "cell_type": "code",
   "execution_count": null,
   "metadata": {},
   "outputs": [],
   "source": []
  },
  {
   "cell_type": "code",
   "execution_count": null,
   "metadata": {},
   "outputs": [],
   "source": []
  }
 ],
 "metadata": {
  "kernelspec": {
   "display_name": "Python 3",
   "language": "python",
   "name": "python3"
  },
  "language_info": {
   "codemirror_mode": {
    "name": "ipython",
    "version": 3
   },
   "file_extension": ".py",
   "mimetype": "text/x-python",
   "name": "python",
   "nbconvert_exporter": "python",
   "pygments_lexer": "ipython3",
   "version": "3.10.2"
  },
  "orig_nbformat": 4
 },
 "nbformat": 4,
 "nbformat_minor": 2
}
