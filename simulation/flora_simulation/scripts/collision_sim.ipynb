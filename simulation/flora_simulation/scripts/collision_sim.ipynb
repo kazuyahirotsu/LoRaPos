{
 "cells": [
  {
   "cell_type": "code",
   "execution_count": 6,
   "metadata": {},
   "outputs": [
    {
     "name": "stdout",
     "output_type": "stream",
     "text": [
      "1.0322165044907917e-127\n",
      "Collision Probability: 0.0\n"
     ]
    }
   ],
   "source": [
    "import math\n",
    "import random\n",
    "\n",
    "def calculate_collision_probability(num_beacons, signal_duration):\n",
    "    p_no_collision = 1.0  # Initialize probability of no collision as 1\n",
    "\n",
    "    for i in range(num_beacons):\n",
    "        x = random.expovariate(1)  # Generate exponential random number\n",
    "        signal_time = i * (signal_duration + x)  # Calculate time of signal transmission\n",
    "\n",
    "        # Calculate the probability of no collision for the current beacon\n",
    "        p_no_collision_beacon = math.exp(-signal_time / signal_duration)\n",
    "        p_no_collision *= p_no_collision_beacon\n",
    "\n",
    "    return p_no_collision\n",
    "\n",
    "# Example usage\n",
    "num_beacons = 10\n",
    "signal_duration = 0.02\n",
    "\n",
    "ans = 0\n",
    "for i in range(10**6):\n",
    "    collision_probability = calculate_collision_probability(num_beacons, signal_duration)\n",
    "    ans += collision_probability\n",
    "ans /= 10**6\n",
    "print(ans)\n",
    "print(\"Collision Probability:\", collision_probability)\n"
   ]
  },
  {
   "cell_type": "code",
   "execution_count": 16,
   "metadata": {},
   "outputs": [
    {
     "name": "stdout",
     "output_type": "stream",
     "text": [
      "Probability of no collision: 0.6375\n"
     ]
    }
   ],
   "source": [
    "import numpy as np\n",
    "from scipy.stats import expon\n",
    "import itertools\n",
    "\n",
    "def no_collision_probability(num_beacons, signal_duration, mean_arrival_time, num_simulations):\n",
    "    no_collision_count = 0\n",
    "\n",
    "    for _ in range(num_simulations):\n",
    "        arrival_times = [0] + list(np.random.exponential(mean_arrival_time, num_beacons - 1))\n",
    "        start_times = np.cumsum(arrival_times)\n",
    "\n",
    "        collision = False\n",
    "        for i, j in itertools.combinations(range(num_beacons), 2):\n",
    "            if abs(start_times[i] - start_times[j]) < signal_duration:\n",
    "                collision = True\n",
    "                break\n",
    "\n",
    "        if not collision:\n",
    "            no_collision_count += 1\n",
    "\n",
    "    return no_collision_count / num_simulations\n",
    "\n",
    "num_beacons = 10\n",
    "signal_duration = 0.05\n",
    "mean_arrival_time = 1\n",
    "num_simulations = 100000\n",
    "\n",
    "probability = no_collision_probability(num_beacons, signal_duration, mean_arrival_time, num_simulations)\n",
    "print(f\"Probability of no collision: {probability}\")\n"
   ]
  },
  {
   "cell_type": "code",
   "execution_count": null,
   "metadata": {},
   "outputs": [],
   "source": []
  }
 ],
 "metadata": {
  "kernelspec": {
   "display_name": "Python 3",
   "language": "python",
   "name": "python3"
  },
  "language_info": {
   "codemirror_mode": {
    "name": "ipython",
    "version": 3
   },
   "file_extension": ".py",
   "mimetype": "text/x-python",
   "name": "python",
   "nbconvert_exporter": "python",
   "pygments_lexer": "ipython3",
   "version": "3.10.2"
  },
  "orig_nbformat": 4
 },
 "nbformat": 4,
 "nbformat_minor": 2
}
