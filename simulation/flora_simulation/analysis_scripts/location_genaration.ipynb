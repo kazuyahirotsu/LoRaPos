{
 "cells": [
  {
   "cell_type": "code",
   "execution_count": 13,
   "metadata": {},
   "outputs": [
    {
     "name": "stdout",
     "output_type": "stream",
     "text": [
      "**.loRaGW[0].**.initialX = 500.0m\n",
      "**.loRaGW[0].**.initialY = 500.0m\n",
      "**.loRaNodes[0].**.initialX = 432.51m\n",
      "**.loRaNodes[0].**.initialY = 481.56m\n",
      "**.loRaNodes[1].**.initialX = 545.87m\n",
      "**.loRaNodes[1].**.initialY = 435.16m\n",
      "**.loRaNodes[2].**.initialX = 476.36m\n",
      "**.loRaNodes[2].**.initialY = 518.18m\n",
      "**.loRaNodes[3].**.initialX = 484.83m\n",
      "**.loRaNodes[3].**.initialY = 468.03m\n",
      "**.loRaNodes[4].**.initialX = 547.28m\n",
      "**.loRaNodes[4].**.initialY = 418.85m\n",
      "**.loRaNodes[5].**.initialX = 442.3m\n",
      "**.loRaNodes[5].**.initialY = 494.69m\n",
      "**.loRaNodes[6].**.initialX = 528.67m\n",
      "**.loRaNodes[6].**.initialY = 541.73m\n",
      "**.loRaNodes[7].**.initialX = 551.7m\n",
      "**.loRaNodes[7].**.initialY = 515.53m\n",
      "**.loRaNodes[8].**.initialX = 425.33m\n",
      "**.loRaNodes[8].**.initialY = 580.96m\n",
      "**.loRaNodes[9].**.initialX = 501.35m\n",
      "**.loRaNodes[9].**.initialY = 589.68m\n",
      "[[432.51, 481.56], [545.87, 435.16], [476.36, 518.18], [484.83, 468.03], [547.28, 418.85], [442.3, 494.69], [528.67, 541.73], [551.7, 515.53], [425.33, 580.96], [501.35, 589.68]]\n",
      "[69.96380278401111, 79.42469704065604, 29.82217295905846, 35.386576551003095, 93.9186930275331, 57.9438184796273, 50.62965336638203, 53.982135007796835, 110.1368716643069, 89.6901605528722]\n"
     ]
    }
   ],
   "source": [
    "import random\n",
    "import math\n",
    "node_num = 10\n",
    "gw_x = 500.00\n",
    "gw_y = 500.00\n",
    "print(\"**.loRaGW[0].**.initialX = \" + str(gw_x) + \"m\")\n",
    "print(\"**.loRaGW[0].**.initialY = \" + str(gw_y) + \"m\")\n",
    "locations = []\n",
    "distances = []\n",
    "for i in range(node_num):\n",
    "    x, y = round(gw_x + random.uniform(-100,100),2), round(gw_y + random.uniform(-100,100),2)\n",
    "    locations.append([x,y])\n",
    "    distances.append(math.sqrt((gw_x-x)**2 + (gw_y-y)**2))\n",
    "    print(\"**.loRaNodes[\" + str(i) + \"].**.initialX = \" + str(x) + \"m\")\n",
    "    print(\"**.loRaNodes[\" + str(i) + \"].**.initialY = \" + str(y) + \"m\")\n",
    "print(locations)\n",
    "print(distances)"
   ]
  },
  {
   "attachments": {},
   "cell_type": "markdown",
   "metadata": {},
   "source": [
    "**.loRaGW[0].**.initialX = 500.0m\n",
    "**.loRaGW[0].**.initialY = 500.0m\n",
    "**.loRaNodes[0].**.initialX = 432.51m\n",
    "**.loRaNodes[0].**.initialY = 481.56m\n",
    "**.loRaNodes[1].**.initialX = 545.87m\n",
    "**.loRaNodes[1].**.initialY = 435.16m\n",
    "**.loRaNodes[2].**.initialX = 476.36m\n",
    "**.loRaNodes[2].**.initialY = 518.18m\n",
    "**.loRaNodes[3].**.initialX = 484.83m\n",
    "**.loRaNodes[3].**.initialY = 468.03m\n",
    "**.loRaNodes[4].**.initialX = 547.28m\n",
    "**.loRaNodes[4].**.initialY = 418.85m\n",
    "**.loRaNodes[5].**.initialX = 442.3m\n",
    "**.loRaNodes[5].**.initialY = 494.69m\n",
    "**.loRaNodes[6].**.initialX = 528.67m\n",
    "**.loRaNodes[6].**.initialY = 541.73m\n",
    "**.loRaNodes[7].**.initialX = 551.7m\n",
    "**.loRaNodes[7].**.initialY = 515.53m\n",
    "**.loRaNodes[8].**.initialX = 425.33m\n",
    "**.loRaNodes[8].**.initialY = 580.96m\n",
    "**.loRaNodes[9].**.initialX = 501.35m\n",
    "**.loRaNodes[9].**.initialY = 589.68m\n",
    "[[432.51, 481.56], [545.87, 435.16], [476.36, 518.18], [484.83, 468.03], [547.28, 418.85], [442.3, 494.69], [528.67, 541.73], [551.7, 515.53], [425.33, 580.96], [501.35, 589.68]]\n",
    "[69.96380278401111, 79.42469704065604, 29.82217295905846, 35.386576551003095, 93.9186930275331, 57.9438184796273, 50.62965336638203, 53.982135007796835, 110.1368716643069, 89.6901605528722]"
   ]
  },
  {
   "cell_type": "code",
   "execution_count": null,
   "metadata": {},
   "outputs": [],
   "source": []
  }
 ],
 "metadata": {
  "kernelspec": {
   "display_name": "Python 3",
   "language": "python",
   "name": "python3"
  },
  "language_info": {
   "codemirror_mode": {
    "name": "ipython",
    "version": 3
   },
   "file_extension": ".py",
   "mimetype": "text/x-python",
   "name": "python",
   "nbconvert_exporter": "python",
   "pygments_lexer": "ipython3",
   "version": "3.10.2"
  },
  "orig_nbformat": 4,
  "vscode": {
   "interpreter": {
    "hash": "7e4f186f644083cf168ae32ea1bc6a391553ae868309e85233efb24ae7837651"
   }
  }
 },
 "nbformat": 4,
 "nbformat_minor": 2
}
